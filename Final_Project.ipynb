{
 "cells": [
  {
   "cell_type": "markdown",
   "metadata": {},
   "source": [
    "# STA 663 Final Project\n",
    "## Biclustering via Sparse Singular Value Decomposition"
   ]
  },
  {
   "cell_type": "code",
   "execution_count": 11,
   "metadata": {
    "collapsed": true
   },
   "outputs": [],
   "source": [
    "import numpy as np\n",
    "import math\n",
    "from numba import jit\n",
    "import seaborn as sns"
   ]
  },
  {
   "cell_type": "code",
   "execution_count": 13,
   "metadata": {
    "collapsed": true
   },
   "outputs": [],
   "source": [
    "# function to implement thresholdig rule\n",
    "@jit\n",
    "def thresh(z, delta):\n",
    "    return np.sign(z)*(np.abs(z) >= delta)*(np.abs(z) - delta)"
   ]
  },
  {
   "cell_type": "code",
   "execution_count": 14,
   "metadata": {
    "collapsed": false
   },
   "outputs": [],
   "source": [
    "@jit\n",
    "def ssvd(X, gamu = 2, gamv = 2, merr = 10**(-4), niter = 100):\n",
    "    # get the first triplet\n",
    "    U, S, V = np.linalg.svd(X, full_matrices = True)\n",
    "    u0 = U[0]\n",
    "    v0 = V[0]\n",
    "    # dimension of X\n",
    "    n = X.shape[0]\n",
    "    d = X.shape[1]\n",
    "    ud = 1\n",
    "    vd = 1\n",
    "    iteration = 0\n",
    "    SST = np.sum(X**2)\n",
    "    \n",
    "    while ((ud > merr) or (vd > merr)):\n",
    "        print(iteration)\n",
    "        iteration = iteration + 1\n",
    "        ### update v ###\n",
    "        z = X.T @ u0\n",
    "        # inversed weight\n",
    "        winv = np.abs(z)**gamv\n",
    "        # sigma squared \n",
    "        sigsq = np.abs(SST - np.sum(z**2)) / (n*d - d)\n",
    "        \n",
    "        cand = z * winv;\n",
    "        delt = np.sort(np.append(0, np.abs(cand)))\n",
    "        delt_uniq = np.unique(delt)\n",
    "        Bv = np.ones(len(delt_uniq) - 1)*math.inf\n",
    "        \n",
    "        index = np.where(winv > 10**(-8))\n",
    "        cand1 = cand[index]\n",
    "        winv1 = winv[index]\n",
    "        for i in range(len(Bv)):\n",
    "            temp2 = thresh(cand1, delt_uniq[i])\n",
    "            temp2 = temp2/winv1\n",
    "            temp3 = np.zeros(d)\n",
    "            temp3[index] = temp2\n",
    "            Bv[i] = np.sum((X - u0[:, None] @ temp3[None, :])**2)/sigsq + np.sum(temp2!=0)*np.log(n*d)\n",
    "        # choose the smallest BIC \n",
    "        Iv = np.argmin(Bv)\n",
    "        th = delt_uniq[Iv]\n",
    "        temp2 = thresh(cand1, th)\n",
    "        temp2 = temp2/winv1\n",
    "        v1 = np.zeros(d)\n",
    "        v1[index] = temp2\n",
    "        v1 = v1/np.linalg.norm(v1)\n",
    "        \n",
    "        ### update u ###\n",
    "        z = X @ v1\n",
    "        # inversed weight\n",
    "        winu = np.abs(z)**gamu\n",
    "        # sigma squared \n",
    "        sigsq = np.abs(SST - np.sum(z**2)) / (n*d - n)\n",
    "        \n",
    "        cand = z * winu;\n",
    "        delt = np.sort(np.append(0, np.abs(cand)))\n",
    "        delt_uniq = np.unique(delt)\n",
    "        Bu = np.ones(len(delt_uniq) - 1)*math.inf\n",
    "        \n",
    "        index = np.where(winu > 10**(-8))\n",
    "        cand1 = cand[index]\n",
    "        winu1 = winu[index]\n",
    "        for i in range(len(Bu)):\n",
    "            temp2 = thresh(cand1, delt_uniq[i])\n",
    "            temp2 = temp2/winu1\n",
    "            temp3 = np.zeros(n)\n",
    "            temp3[index] = temp2\n",
    "            Bu[i] = np.sum((X - temp3[:,None] @ v1[None, :])**2)/sigsq + np.sum(temp2!=0)*np.log(n*d)\n",
    "        # choose the smallest BIC \n",
    "        Iu = np.argmin(Bu)\n",
    "        th = delt_uniq[Iu]\n",
    "        temp2 = thresh(cand1, th)\n",
    "        temp2 = temp2/winu1\n",
    "        u1 = np.zeros(n)\n",
    "        u1[index] = temp2\n",
    "        u1 = u1/np.linalg.norm(u1)\n",
    "        \n",
    "        # difference in old and new \n",
    "        ud = np.linalg.norm(u0-u1)\n",
    "        vd = np.linalg.norm(v0-v1)\n",
    "        \n",
    "        if(iteration > niter):\n",
    "            break;\n",
    "        # update u0 and u1\n",
    "        u0 = u1\n",
    "        v0 = v1\n",
    "    s = u1[None,:] @ X @ v1[:, None]\n",
    "    return u1, v1, s, iter"
   ]
  },
  {
   "cell_type": "code",
   "execution_count": 4,
   "metadata": {
    "collapsed": false
   },
   "outputs": [],
   "source": [
    "data = np.loadtxt(\"data.txt\", dtype = \"float\", delimiter = \" \")\n",
    "data = data.T"
   ]
  },
  {
   "cell_type": "code",
   "execution_count": 15,
   "metadata": {
    "collapsed": false
   },
   "outputs": [
    {
     "name": "stdout",
     "output_type": "stream",
     "text": [
      "0\n",
      "1\n",
      "2\n",
      "3\n",
      "4\n",
      "5\n",
      "6\n"
     ]
    },
    {
     "ename": "KeyboardInterrupt",
     "evalue": "",
     "output_type": "error",
     "traceback": [
      "\u001b[1;31m\u001b[0m",
      "\u001b[1;31mKeyboardInterrupt\u001b[0mTraceback (most recent call last)",
      "\u001b[1;32m<ipython-input-15-0aa2b8329818>\u001b[0m in \u001b[0;36m<module>\u001b[1;34m()\u001b[0m\n\u001b[1;32m----> 1\u001b[1;33m \u001b[0mres\u001b[0m \u001b[1;33m=\u001b[0m \u001b[0mssvd\u001b[0m\u001b[1;33m(\u001b[0m\u001b[0mdata\u001b[0m\u001b[1;33m)\u001b[0m\u001b[1;33m\u001b[0m\u001b[0m\n\u001b[0m",
      "\u001b[1;32m/opt/conda/lib/python3.5/site-packages/numpy/core/fromnumeric.py\u001b[0m in \u001b[0;36msum\u001b[1;34m(a, axis, dtype, out, keepdims)\u001b[0m\n\u001b[0;32m   1741\u001b[0m \u001b[1;33m\u001b[0m\u001b[0m\n\u001b[0;32m   1742\u001b[0m \u001b[1;33m\u001b[0m\u001b[0m\n\u001b[1;32m-> 1743\u001b[1;33m \u001b[1;32mdef\u001b[0m \u001b[0msum\u001b[0m\u001b[1;33m(\u001b[0m\u001b[0ma\u001b[0m\u001b[1;33m,\u001b[0m \u001b[0maxis\u001b[0m\u001b[1;33m=\u001b[0m\u001b[1;32mNone\u001b[0m\u001b[1;33m,\u001b[0m \u001b[0mdtype\u001b[0m\u001b[1;33m=\u001b[0m\u001b[1;32mNone\u001b[0m\u001b[1;33m,\u001b[0m \u001b[0mout\u001b[0m\u001b[1;33m=\u001b[0m\u001b[1;32mNone\u001b[0m\u001b[1;33m,\u001b[0m \u001b[0mkeepdims\u001b[0m\u001b[1;33m=\u001b[0m\u001b[0mnp\u001b[0m\u001b[1;33m.\u001b[0m\u001b[0m_NoValue\u001b[0m\u001b[1;33m)\u001b[0m\u001b[1;33m:\u001b[0m\u001b[1;33m\u001b[0m\u001b[0m\n\u001b[0m\u001b[0;32m   1744\u001b[0m     \"\"\"\n\u001b[0;32m   1745\u001b[0m     \u001b[0mSum\u001b[0m \u001b[0mof\u001b[0m \u001b[0marray\u001b[0m \u001b[0melements\u001b[0m \u001b[0mover\u001b[0m \u001b[0ma\u001b[0m \u001b[0mgiven\u001b[0m \u001b[0maxis\u001b[0m\u001b[1;33m.\u001b[0m\u001b[1;33m\u001b[0m\u001b[0m\n",
      "\u001b[1;31mKeyboardInterrupt\u001b[0m: "
     ]
    }
   ],
   "source": [
    "res = ssvd(data)"
   ]
  },
  {
   "cell_type": "code",
   "execution_count": null,
   "metadata": {
    "collapsed": true
   },
   "outputs": [],
   "source": [
    "layer = s * u1[:, None] * v1[None, :]"
   ]
  }
 ],
 "metadata": {
  "kernelspec": {
   "display_name": "Python 3",
   "language": "python",
   "name": "python3"
  },
  "language_info": {
   "codemirror_mode": {
    "name": "ipython",
    "version": 3
   },
   "file_extension": ".py",
   "mimetype": "text/x-python",
   "name": "python",
   "nbconvert_exporter": "python",
   "pygments_lexer": "ipython3",
   "version": "3.5.2"
  }
 },
 "nbformat": 4,
 "nbformat_minor": 2
}
