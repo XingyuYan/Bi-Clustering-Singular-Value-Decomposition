{
 "cells": [
  {
   "cell_type": "code",
   "execution_count": 85,
   "metadata": {
    "collapsed": true
   },
   "outputs": [],
   "source": [
    "import numpy as np\n",
    "import math\n",
    "from numba import jit\n",
    "import seaborn as sns\n",
    "import matplotlib.pyplot as plt\n",
    "import pandas as pd"
   ]
  },
  {
   "cell_type": "code",
   "execution_count": 9,
   "metadata": {
    "collapsed": true
   },
   "outputs": [],
   "source": [
    "@jit\n",
    "def thresh(z,delta):\n",
    "    return np.sign(z)*(np.abs(z) >= delta)*(np.abs(z)-delta)"
   ]
  },
  {
   "cell_type": "code",
   "execution_count": 17,
   "metadata": {
    "collapsed": false
   },
   "outputs": [],
   "source": [
    "@jit\n",
    "def ssvd(X, gamu = 2, gamv = 2,u0, v0, merr = 10**(-4), niter = 100 ):\n",
    "    n = X.shape[0]\n",
    "    d = X.shape[1]\n",
    "    ud = 1\n",
    "    vd = 1\n",
    "    iters = 0\n",
    "    SST = np.sum(X*X)\n",
    "    while (ud > merr or vd > merr):\n",
    "        #print(iters)\n",
    "        iters = iters +1\n",
    "        # Updating v\n",
    "        z =  X.T @ u0\n",
    "        winv = np.abs(z)**gamv\n",
    "        sigsq = np.abs(SST - np.sum(z*z))/(n*d-d)\n",
    "        cand = z*winv\n",
    "        delt = np.sort(np.append(np.abs(cand),0))\n",
    "        delt_uniq = np.unique(delt)\n",
    "        Bv = np.ones(len(delt_uniq)-1)*float(\"inf\")\n",
    "        ind = np.where(winv>10^(-8))\n",
    "        cand1 = cand[ind]\n",
    "        winv1 = winv[ind]\n",
    "        for i in range(len(Bv)):\n",
    "            temp2 = thresh(cand1,delta = delt_uniq[i])\n",
    "            temp2 = temp2/winv1\n",
    "            temp3 = np.zeros(d)\n",
    "            temp3[ind] = temp2\n",
    "            Bv[i] = np.sum((X - u0.reshape(len(u0),1) @ temp3.reshape(1,len(temp3)))**2)/sigsq + np.sum(temp2!=0)*math.log(n*d)\n",
    "        Iv = min(np.where(Bv== min(Bv)))  \n",
    "        th = delt_uniq[Iv]\n",
    "        temp2 = thresh(cand1,delta = th)\n",
    "        temp2 = temp2/winv1\n",
    "        v1 = np.zeros(d)\n",
    "        v1[ind] = temp2\n",
    "        v1 = v1/((np.sum(v1*v1))**0.5) #v_new\n",
    "        \n",
    "        # Updating u\n",
    "        z = X @ v1\n",
    "        winu = np.abs(z)**gamu\n",
    "        sigsq = np.abs(SST - np.sum(z*z))/(n*d-n)\n",
    "        cand = z*winu\n",
    "        delt = np.sort(np.append(np.abs(cand),0))\n",
    "        delt_uniq = np.unique(delt)\n",
    "        Bu = np.ones(len(delt_uniq)-1)*float(\"inf\")\n",
    "        ind = np.where(winu > 10^(-8))\n",
    "        cand1 = cand[ind]\n",
    "        winu1 = winu[ind]\n",
    "        for i in range(len(Bu)):\n",
    "            temp2 = thresh(cand1,delta = delt_uniq[i])\n",
    "            temp2 = temp2/winu1\n",
    "            temp3 = np.zeros(n)\n",
    "            temp3[ind] = temp2\n",
    "            Bu[i] = np.sum((X - temp3.reshape(len(temp3),1) @ v1.reshape(1,len(v1)))**2)/sigsq + np.sum(temp2!=0)*math.log(n*d)\n",
    "        Iu = min(np.where(Bu==min(Bu)))\n",
    "        th = delt_uniq[Iu]\n",
    "        temp2 = thresh(cand1,delta = th)\n",
    "        temp2 = temp2/winu1\n",
    "        u1 = np.zeros(n)\n",
    "        u1[ind] =  temp2\n",
    "        u1 = u1/((np.sum(u1*u1))**0.5)\n",
    "        \n",
    "        \n",
    "        ud = np.sum((u0-u1)*(u0-u1))**0.5\n",
    "        vd = np.sum((v0-v1)*(v0-v1))**0.5\n",
    "        \n",
    "        if iters > niter :\n",
    "            print(\"Fail to converge! Increase the niter!\")\n",
    "            break\n",
    "        \n",
    "        u0 = u1\n",
    "        v0 = v1\n",
    "    s = u1[None, :] @ X @ v1[:, None]\n",
    "    return u1, v1, s, iters"
   ]
  },
  {
   "cell_type": "code",
   "execution_count": 18,
   "metadata": {
    "collapsed": false
   },
   "outputs": [
    {
     "name": "stdout",
     "output_type": "stream",
     "text": [
      "0\n",
      "1\n",
      "2\n",
      "3\n",
      "4\n",
      "5\n"
     ]
    }
   ],
   "source": [
    "data = np.loadtxt(\"data.txt\", dtype = \"float\", delimiter = \" \")\n",
    "X = data.T\n",
    "U, s, V = np.linalg.svd(X)\n",
    "u0 = U.T[0]\n",
    "v0 = V.t[0]\n",
    "res = ssvd(X, u0 = u0, v0 = v0)"
   ]
  },
  {
   "cell_type": "code",
   "execution_count": 20,
   "metadata": {
    "collapsed": false
   },
   "outputs": [],
   "source": [
    "# rank 1 approximation \n",
    "layer = res[2] * res[0][:, None] * res[1][None, :]"
   ]
  },
  {
   "cell_type": "code",
   "execution_count": 25,
   "metadata": {
    "collapsed": false
   },
   "outputs": [],
   "source": [
    "# divide all entries by the maximum entry\n",
    "layer_scaled = layer / np.max(layer)\n",
    "# sort column of layer based on v\n",
    "col_idx = np.argsort(res[1])\n",
    "layer_sorted = layer_scaled[:, col_idx]"
   ]
  },
  {
   "cell_type": "code",
   "execution_count": 122,
   "metadata": {
    "collapsed": false
   },
   "outputs": [],
   "source": [
    "# rearrange subjects according to u within each subject group\n",
    "row_idx1 = np.argsort(res[0][:20])\n",
    "row_idx2 = np.argsort(res[0][21:34])+20\n",
    "row_idx3 = np.argsort(res[0][34:51])+33\n",
    "row_idx4 = np.argsort(res[0][51:])+51\n",
    "row_idx = np.append(np.append(row_idx1, row_idx2), np.append(row_idx3, row_idx4))\n",
    "layer_sorted = layer_sorted[row_idx,:]"
   ]
  },
  {
   "cell_type": "code",
   "execution_count": 190,
   "metadata": {
    "collapsed": false
   },
   "outputs": [],
   "source": [
    "# 8000 genes that have zero rank 1 approximation are excluded\n",
    "layer_reduced = np.hstack([layer_sorted[:,:1462], layer_sorted[:,1462+8000:]])"
   ]
  },
  {
   "cell_type": "code",
   "execution_count": 207,
   "metadata": {
    "collapsed": false
   },
   "outputs": [
    {
     "data": {
      "image/png": "[encoded data removed]",
      "text/plain": [
       "<matplotlib.figure.Figure at 0x7f3372d6c9e8>"
      ]
     },
     "metadata": {},
     "output_type": "display_data"
    }
   ],
   "source": [
    "image1 = sns.heatmap(layer_reduced, vmin=-1, vmax=1, xticklabels=False, yticklabels=False)\n",
    "image1.set(xlabel = \"Ordered Gene Index\", ylabel = \"\")\n",
    "plt.plot(list(image1.get_xlim()), [5,5], 'k--', linewidth = 0.5)\n",
    "plt.plot(list(image1.get_xlim()), [22,22], 'k--', linewidth = 0.5)\n",
    "plt.plot(list(image1.get_xlim()), [35,35], 'k--', linewidth = 0.5)\n",
    "plt.plot([1462, 1462], list(image1.get_ylim()), 'k--', linewidth = 0.5)\n",
    "plt.plot([10882-8000, 10882-8000], list(image1.get_ylim()), 'k--', linewidth = 0.5)\n",
    "plt.yticks([2,13,28,45], [\"SmallCell\", \"Normal\", \"Colon\", \"Carcinoid\"])\n",
    "plt.xticks([1462, 10882-8000], [\"1463\", \"10883\"])\n",
    "plt.title(\"\")\n",
    "pass"
   ]
  }
 ],
 "metadata": {
  "anaconda-cloud": {},
  "kernelspec": {
   "display_name": "Python 3",
   "language": "python",
   "name": "python3"
  },
  "language_info": {
   "codemirror_mode": {
    "name": "ipython",
    "version": 3
   },
   "file_extension": ".py",
   "mimetype": "text/x-python",
   "name": "python",
   "nbconvert_exporter": "python",
   "pygments_lexer": "ipython3",
   "version": "3.5.2"
  }
 },
 "nbformat": 4,
 "nbformat_minor": 1
}
