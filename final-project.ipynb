{
 "cells": [
  {
   "cell_type": "code",
   "execution_count": 1,
   "metadata": {
    "collapsed": true
   },
   "outputs": [],
   "source": [
    "import numpy as np\n",
    "import math"
   ]
  },
  {
   "cell_type": "code",
   "execution_count": 2,
   "metadata": {
    "collapsed": true
   },
   "outputs": [],
   "source": [
    "data = np.loadtxt(\"data.txt\", dtype = \"float\", delimiter = \" \")\n",
    "X = data.T"
   ]
  },
  {
   "cell_type": "code",
   "execution_count": 3,
   "metadata": {
    "collapsed": true
   },
   "outputs": [],
   "source": [
    "U, s, V = np.linalg.svd(X)"
   ]
  },
  {
   "cell_type": "code",
   "execution_count": 4,
   "metadata": {
    "collapsed": true
   },
   "outputs": [],
   "source": [
    "def thresh(z,delta):\n",
    "    return np.sign(z)*(np.abs(z) >= delta)*(np.abs(z)-delta)"
   ]
  },
  {
   "cell_type": "code",
   "execution_count": 10,
   "metadata": {
    "collapsed": false
   },
   "outputs": [],
   "source": [
    "def ssvd(X,threu = 1, threv = 1, gamu = 2, gamv =2,u0 =U.T[0], v0 = V.T[0],merr = 10**(-4), niter = 100 ):\n",
    "    n = X.shape[0]\n",
    "    d = X.shape[1]\n",
    "    ud = 1\n",
    "    vd = 1\n",
    "    iters = 0\n",
    "    SST = np.sum(X*X)\n",
    "    while (ud > merr or vd > merr):\n",
    "        print(iters)\n",
    "        iters = iters +1\n",
    "         # Updating v\n",
    "        z =  X.T @ u0\n",
    "        winv = np.abs(z)**gamv\n",
    "        sigsq = np.abs(SST - np.sum(z*z))/(n*d-d)\n",
    "        cand = z*winv\n",
    "        delt = np.sort(np.append(np.abs(cand),0))\n",
    "        delt_uniq = np.unique(delt)\n",
    "        Bv = np.ones(len(delt_uniq)-1)*float(\"inf\")\n",
    "        ind = np.where(winv>10^(-8))\n",
    "        cand1 = cand[ind]\n",
    "        winv1 = winv[ind]\n",
    "        for i in range(len(Bv)):\n",
    "            temp2 = thresh(cand1,delta = delt_uniq[i])\n",
    "            temp2 = temp2/winv1\n",
    "            temp3 = np.zeros(d)\n",
    "            temp3[ind] = temp2\n",
    "            Bv[i] = np.sum((X - u0.reshape(len(u0),1) @ temp3.reshape(1,len(temp3)))**2)/sigsq + np.sum(temp2!=0)*math.log(n*d)\n",
    "        Iv = min(np.where(Bv== min(Bv)))  \n",
    "        th = delt_uniq[Iv]\n",
    "        temp2 = thresh(cand1,delta = th)\n",
    "        temp2 = temp2/winv1\n",
    "        v1 = np.zeros(d)\n",
    "        v1[ind] = temp2\n",
    "        v1 = v1/((np.sum(v1*v1))**0.5) #v_new\n",
    "        \n",
    "        # Updating u\n",
    "        z = X @ v1\n",
    "        winu = np.abs(z)**gamu\n",
    "        sigsq = np.abs(SST - np.sum(z*z))/(n*d-n)\n",
    "        cand = z*winu\n",
    "        delt = np.sort(np.append(np.abs(cand),0))\n",
    "        delt_uniq = np.unique(delt)\n",
    "        Bu = np.ones(len(delt_uniq)-1)*float(\"inf\")\n",
    "        ind = np.where(winu > 10^(-8))\n",
    "        cand1 = cand[ind]\n",
    "        winu1 = winu[ind]\n",
    "        for i in range(len(Bu)):\n",
    "            temp2 = thresh(cand1,delta = delt_uniq[i])\n",
    "            temp2 = temp2/winu1\n",
    "            temp3 = np.zeros(n)\n",
    "            temp3[ind] = temp2\n",
    "            Bu[i] = np.sum((X - temp3.reshape(len(temp3),1) @ v1.reshape(1,len(v1)))**2)/sigsq + np.sum(temp2!=0)*math.log(n*d)\n",
    "        Iu = min(np.where(Bu==min(Bu)))\n",
    "        th = delt_uniq[Iu]\n",
    "        temp2 = thresh(cand1,delta = th)\n",
    "        temp2 = temp2/winu1\n",
    "        u1 = np.zeros(n)\n",
    "        u1[ind] =  temp2\n",
    "        u1 = u1/((np.sum(u1*u1))**0.5)\n",
    "        \n",
    "        \n",
    "        ud = np.sum((u0-u1)*(u0-u1))**0.5\n",
    "        vd = np.sum((v0-v1)*(v0-v1))**0.5\n",
    "        \n",
    "        if iters > niter :\n",
    "            print(\"Fail to converge! Increase the niter!\")\n",
    "            break\n",
    "        \n",
    "        u0 = u1\n",
    "        v0 = v1\n",
    "    return u1,v1,iters"
   ]
  },
  {
   "cell_type": "code",
   "execution_count": 11,
   "metadata": {
    "collapsed": false
   },
   "outputs": [
    {
     "name": "stdout",
     "output_type": "stream",
     "text": [
      "0\n",
      "1\n",
      "2\n",
      "3\n",
      "4\n",
      "5\n"
     ]
    }
   ],
   "source": [
    "res = ssvd(X)"
   ]
  },
  {
   "cell_type": "code",
   "execution_count": 12,
   "metadata": {
    "collapsed": false
   },
   "outputs": [
    {
     "data": {
      "text/plain": [
       "(array([-0.18018641, -0.2111319 , -0.10737516, -0.15574824, -0.15112323,\n",
       "        -0.16025416, -0.19018526, -0.16695614, -0.19288482, -0.1101655 ,\n",
       "        -0.13320652, -0.16567419, -0.18539703, -0.13521102, -0.17296825,\n",
       "        -0.11586789, -0.19550012, -0.06831533, -0.17865369, -0.19547649,\n",
       "         0.09094302,  0.04679269,  0.08135216,  0.0319133 ,  0.05270603,\n",
       "         0.0326062 ,  0.08880033,  0.07646915,  0.07221645,  0.04541018,\n",
       "         0.06393339,  0.0096247 , -0.01926316,  0.16077355,  0.15437588,\n",
       "         0.15564448,  0.13808241,  0.14590629,  0.15895225,  0.16920658,\n",
       "         0.17449384,  0.15142279,  0.1758557 ,  0.13815952,  0.14764779,\n",
       "         0.14680345,  0.1735995 ,  0.14234025,  0.12499649,  0.1455915 ,\n",
       "         0.07617165, -0.03848219, -0.04149155,  0.0123531 , -0.        ,\n",
       "        -0.11083854]),\n",
       " array([ 0.       ,  0.0126103,  0.       , ...,  0.       ,  0.       ,  0.       ]),\n",
       " 6)"
      ]
     },
     "execution_count": 12,
     "metadata": {},
     "output_type": "execute_result"
    }
   ],
   "source": [
    "res "
   ]
  }
 ],
 "metadata": {
  "anaconda-cloud": {},
  "kernelspec": {
   "display_name": "Python 3",
   "language": "python",
   "name": "python3"
  },
  "language_info": {
   "codemirror_mode": {
    "name": "ipython",
    "version": 3
   },
   "file_extension": ".py",
   "mimetype": "text/x-python",
   "name": "python",
   "nbconvert_exporter": "python",
   "pygments_lexer": "ipython3",
   "version": "3.5.2"
  }
 },
 "nbformat": 4,
 "nbformat_minor": 1
}
