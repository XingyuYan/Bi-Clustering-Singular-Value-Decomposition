{
 "cells": [
  {
   "cell_type": "code",
   "execution_count": 1,
   "metadata": {
    "collapsed": false
   },
   "outputs": [],
   "source": [
    "import numpy as np\n",
    "import math\n",
    "import sklearn\n",
    "import matplotlib.pyplot as plt\n",
    "import plotly.plotly as py\n",
    "import plotly.tools as tls\n",
    "import pandas as pd"
   ]
  },
  {
   "cell_type": "code",
   "execution_count": 2,
   "metadata": {
    "collapsed": true
   },
   "outputs": [],
   "source": [
    "def thresh(z,delta):\n",
    "    return np.sign(z)*(np.abs(z) >= delta)*(np.abs(z)-delta)\n",
    "\n",
    "def ssvd(X, gamu = 2, gamv = 2, merr = 10**(-4), niter = 100):\n",
    "    # initial values\n",
    "    U, s, V = np.linalg.svd(X)\n",
    "    u0 = U.T[0]\n",
    "    v0 = V.T[0]\n",
    "        \n",
    "    n = X.shape[0]\n",
    "    d = X.shape[1]\n",
    "    ud = 1\n",
    "    vd = 1\n",
    "    iters = 0\n",
    "    SST = np.sum(X*X)\n",
    "    while (ud > merr or vd > merr):\n",
    "        iters = iters +1\n",
    "        # Updating v\n",
    "        z =  X.T @ u0\n",
    "        winv = np.abs(z)**gamv\n",
    "        sigsq = np.abs(SST - np.sum(z*z))/(n*d-d)\n",
    "        cand = z*winv\n",
    "        delt = np.sort(np.append(np.abs(cand),0))\n",
    "        delt_uniq = np.unique(delt)\n",
    "        Bv = np.ones(len(delt_uniq)-1)*float(\"inf\")\n",
    "        ind = np.where(winv>10^(-8))\n",
    "        cand1 = cand[ind]\n",
    "        winv1 = winv[ind]\n",
    "        for i in range(len(Bv)):\n",
    "            temp2 = thresh(cand1,delta = delt_uniq[i])\n",
    "            temp2 = temp2/winv1\n",
    "            temp3 = np.zeros(d)\n",
    "            temp3[ind] = temp2\n",
    "            Bv[i] = np.sum((X - u0[:,None] @ temp3[None,:])**2)/sigsq + np.sum(temp2!=0)*math.log(n*d)\n",
    "        Iv = min(np.where(Bv== np.min(Bv)))\n",
    "        th = delt_uniq[Iv]\n",
    "        temp2 = thresh(cand1,delta = th)\n",
    "        temp2 = temp2/winv1\n",
    "        v1 = np.zeros(d)\n",
    "        v1[ind] = temp2\n",
    "        v1 = v1/((np.sum(v1*v1))**0.5) #v_new\n",
    "        \n",
    "        # Updating u\n",
    "        z = X @ v1\n",
    "        winu = np.abs(z)**gamu\n",
    "        sigsq = np.abs(SST - np.sum(z*z))/(n*d-n)\n",
    "        cand = z*winu\n",
    "        delt = np.sort(np.append(np.abs(cand),0))\n",
    "        delt_uniq = np.unique(delt)\n",
    "        Bu = np.ones(len(delt_uniq)-1)*float(\"inf\")\n",
    "        ind = np.where(winu > 10^(-8))\n",
    "        cand1 = cand[ind]\n",
    "        winu1 = winu[ind]\n",
    "        for i in range(len(Bu)):\n",
    "            temp2 = thresh(cand1,delta = delt_uniq[i])\n",
    "            temp2 = temp2/winu1\n",
    "            temp3 = np.zeros(n)\n",
    "            temp3[ind] = temp2\n",
    "            Bu[i] = np.sum((X - temp3[:,None] @ v1[None,:])**2)/sigsq + np.sum(temp2!=0)*math.log(n*d)\n",
    "        Iu = min(np.where(Bu==np.min(Bu)))\n",
    "        th = delt_uniq[Iu]\n",
    "        temp2 = thresh(cand1,delta = th)\n",
    "        temp2 = temp2/winu1\n",
    "        u1 = np.zeros(n)\n",
    "        u1[ind] =  temp2\n",
    "        u1 = u1/((np.sum(u1*u1))**0.5)\n",
    "        \n",
    "        \n",
    "        ud = np.sum((u0-u1)*(u0-u1))**0.5\n",
    "        vd = np.sum((v0-v1)*(v0-v1))**0.5\n",
    "\n",
    "        if iters > niter :\n",
    "            print(\"Fail to converge! Increase the niter!\")\n",
    "            break\n",
    "        \n",
    "        u0 = u1\n",
    "        v0 = v1\n",
    "\n",
    "    s = u1[None, :] @ X @ v1[:, None]\n",
    "    return u1, v1, s, iters"
   ]
  },
  {
   "cell_type": "markdown",
   "metadata": {},
   "source": [
    "Simulation study Case 1 Rand 1 Approximation"
   ]
  },
  {
   "cell_type": "code",
   "execution_count": 3,
   "metadata": {
    "collapsed": false
   },
   "outputs": [],
   "source": [
    "# create u_hat\n",
    "u_hat = np.array([10,9,8,7,6,5,4,3])\n",
    "u_hat = np.append(u_hat,np.repeat(2,17))\n",
    "u_hat = np.append(u_hat,np.repeat(0,75))"
   ]
  },
  {
   "cell_type": "code",
   "execution_count": 4,
   "metadata": {
    "collapsed": false
   },
   "outputs": [],
   "source": [
    "# create v_hat\n",
    "v_hat = np.array([10,-10,8,-8,5,-5])\n",
    "v_hat = np.append(v_hat,np.repeat(3,5))\n",
    "v_hat = np.append(v_hat,np.repeat(-3,5))\n",
    "v_hat = np.append(v_hat,np.repeat(0,34))"
   ]
  },
  {
   "cell_type": "code",
   "execution_count": 5,
   "metadata": {
    "collapsed": false
   },
   "outputs": [],
   "source": [
    "# normalize u_hat\n",
    "u = u_hat/np.linalg.norm(u_hat)"
   ]
  },
  {
   "cell_type": "code",
   "execution_count": 6,
   "metadata": {
    "collapsed": false
   },
   "outputs": [],
   "source": [
    "# normalize v_hat\n",
    "v = v_hat/np.linalg.norm(v_hat)"
   ]
  },
  {
   "cell_type": "code",
   "execution_count": 7,
   "metadata": {
    "collapsed": true
   },
   "outputs": [],
   "source": [
    "# create vectors for storing answers\n",
    "num_zeros_u = np.zeros(100)\n",
    "prop_zeros_u_identified= np.zeros(100)\n",
    "prop_non_zeros_u_identified= np.zeros(100)\n",
    "missclass_u= np.zeros(100)"
   ]
  },
  {
   "cell_type": "code",
   "execution_count": 8,
   "metadata": {
    "collapsed": true
   },
   "outputs": [],
   "source": [
    "#create vectors for storing answers\n",
    "num_zeros_v = np.zeros(100)\n",
    "prop_zeros_v_identified= np.zeros(100)\n",
    "prop_non_zeros_v_identified= np.zeros(100)\n",
    "missclass_v= np.zeros(100)"
   ]
  },
  {
   "cell_type": "code",
   "execution_count": 9,
   "metadata": {
    "collapsed": false
   },
   "outputs": [],
   "source": [
    "# generate X* simulated datasets.\n",
    "X_star = 50*u.reshape(len(u),1) @ v.reshape(1,len(v))"
   ]
  },
  {
   "cell_type": "code",
   "execution_count": 10,
   "metadata": {
    "collapsed": false
   },
   "outputs": [],
   "source": [
    "# calculate the SVD of the matrix\n",
    "U, s, V = np.linalg.svd(X_star)"
   ]
  },
  {
   "cell_type": "markdown",
   "metadata": {},
   "source": [
    "SSVD"
   ]
  },
  {
   "cell_type": "code",
   "execution_count": 11,
   "metadata": {
    "collapsed": false
   },
   "outputs": [],
   "source": [
    "## simulate 100 times to generate X = X*+ epilson (sampled from standard normal distribution)\n",
    "for i in range(100):\n",
    "    X = X_star + np.random.normal(0,1,100*50).reshape(100,50)\n",
    "    U, s, V = np.linalg.svd(X)\n",
    "    u0 = U.T[0]\n",
    "    v0 = V.T[0]\n",
    "    Upred, Vpred ,s,niter = ssvd(X)\n",
    "    ## store answers\n",
    "    num_zeros_u[i] = np.sum(Upred==0)\n",
    "    num_zeros_v[i] = np.sum(Vpred==0)\n",
    "    prop_zeros_u_identified[i] = np.sum(Upred[np.where(u == 0)] ==0)*100/np.sum(u==0)\n",
    "    prop_zeros_v_identified[i] = np.sum(Vpred[np.where(v == 0)] ==0)*100/np.sum(v==0)\n",
    "    prop_non_zeros_u_identified[i] = np.sum(Upred[np.where(u != 0)]!=0)*100/np.sum(u!=0)\n",
    "    prop_non_zeros_v_identified[i] = np.sum(Vpred[np.where(v != 0)]!=0)*100/np.sum(v!=0)\n",
    "    missclass_u[i] = sum(np.sign(u) != np.sign(Upred)*(-1))*100/100\n",
    "    missclass_v[i] = sum(np.sign(v) != np.sign(Vpred)*(-1))*100/50"
   ]
  },
  {
   "cell_type": "code",
   "execution_count": 12,
   "metadata": {
    "collapsed": false
   },
   "outputs": [
    {
     "data": {
      "text/plain": [
       "74.510000000000005"
      ]
     },
     "execution_count": 12,
     "metadata": {},
     "output_type": "execute_result"
    }
   ],
   "source": [
    "# calculate the mean\n",
    "np.mean(num_zeros_u)"
   ]
  },
  {
   "cell_type": "code",
   "execution_count": 13,
   "metadata": {
    "collapsed": false
   },
   "outputs": [
    {
     "data": {
      "text/plain": [
       "33.789999999999999"
      ]
     },
     "execution_count": 13,
     "metadata": {},
     "output_type": "execute_result"
    }
   ],
   "source": [
    "np.mean(num_zeros_v)"
   ]
  },
  {
   "cell_type": "code",
   "execution_count": 14,
   "metadata": {
    "collapsed": false
   },
   "outputs": [
    {
     "data": {
      "text/plain": [
       "98.826666666666682"
      ]
     },
     "execution_count": 14,
     "metadata": {},
     "output_type": "execute_result"
    }
   ],
   "source": [
    "np.mean(prop_zeros_u_identified)"
   ]
  },
  {
   "cell_type": "code",
   "execution_count": 15,
   "metadata": {
    "collapsed": false
   },
   "outputs": [
    {
     "data": {
      "text/plain": [
       "99.382352941176464"
      ]
     },
     "execution_count": 15,
     "metadata": {},
     "output_type": "execute_result"
    }
   ],
   "source": [
    "np.mean(prop_zeros_v_identified)"
   ]
  },
  {
   "cell_type": "code",
   "execution_count": 16,
   "metadata": {
    "collapsed": false
   },
   "outputs": [
    {
     "data": {
      "text/plain": [
       "98.439999999999998"
      ]
     },
     "execution_count": 16,
     "metadata": {},
     "output_type": "execute_result"
    }
   ],
   "source": [
    "np.mean(prop_non_zeros_u_identified)"
   ]
  },
  {
   "cell_type": "code",
   "execution_count": 17,
   "metadata": {
    "collapsed": false
   },
   "outputs": [
    {
     "data": {
      "text/plain": [
       "100.0"
      ]
     },
     "execution_count": 17,
     "metadata": {},
     "output_type": "execute_result"
    }
   ],
   "source": [
    "np.mean(prop_non_zeros_v_identified)"
   ]
  },
  {
   "cell_type": "code",
   "execution_count": 18,
   "metadata": {
    "collapsed": false
   },
   "outputs": [
    {
     "data": {
      "text/plain": [
       "1.27"
      ]
     },
     "execution_count": 18,
     "metadata": {},
     "output_type": "execute_result"
    }
   ],
   "source": [
    "np.mean( missclass_u)"
   ]
  },
  {
   "cell_type": "code",
   "execution_count": 19,
   "metadata": {
    "collapsed": false
   },
   "outputs": [
    {
     "data": {
      "text/plain": [
       "0.41999999999999998"
      ]
     },
     "execution_count": 19,
     "metadata": {},
     "output_type": "execute_result"
    }
   ],
   "source": [
    "np.mean( missclass_v)"
   ]
  },
  {
   "cell_type": "markdown",
   "metadata": {},
   "source": [
    "SVD "
   ]
  },
  {
   "cell_type": "code",
   "execution_count": 20,
   "metadata": {
    "collapsed": true
   },
   "outputs": [],
   "source": [
    "# create empty vectors for storing answers.\n",
    "num_zeros_u_svd = np.zeros(100)\n",
    "prop_zeros_u_identified_svd= np.zeros(100)\n",
    "prop_non_zeros_u_identified_svd= np.zeros(100)\n",
    "missclass_u_svd= np.zeros(100)"
   ]
  },
  {
   "cell_type": "code",
   "execution_count": 21,
   "metadata": {
    "collapsed": true
   },
   "outputs": [],
   "source": [
    "# create empty vectors for storing answers.\n",
    "num_zeros_v_svd = np.zeros(100)\n",
    "prop_zeros_v_identified_svd= np.zeros(100)\n",
    "prop_non_zeros_v_identified_svd= np.zeros(100)\n",
    "missclass_v_svd= np.zeros(100)"
   ]
  },
  {
   "cell_type": "code",
   "execution_count": 22,
   "metadata": {
    "collapsed": false
   },
   "outputs": [],
   "source": [
    "for i in range(100):\n",
    "    # generate X = X* + epislon (sampled from the standard normal distribution)\n",
    "    X = X_star + np.random.normal(0,1,100*50).reshape(100,50)\n",
    "    Upred, s, Vpred = np.linalg.svd(X)\n",
    "    Upred = Upred.T[0]\n",
    "    Vpred = Vpred.T[0]\n",
    "    # storing all answers\n",
    "    num_zeros_u_svd[i] = np.sum(Upred==0)\n",
    "    num_zeros_v_svd[i] = np.sum(Vpred==0)\n",
    "    prop_zeros_u_identified_svd[i] = np.sum(Upred[np.where(u == 0)] ==0)*100/np.sum(u==0)\n",
    "    prop_zeros_v_identified_svd[i] = np.sum(Vpred[np.where(v == 0)] ==0)*100/np.sum(v==0)\n",
    "    prop_non_zeros_u_identified_svd[i] = np.sum(Upred[np.where(u != 0)]!=0)*100/np.sum(u!=0)\n",
    "    prop_non_zeros_v_identified_svd[i] = np.sum(Vpred[np.where(v != 0)]!=0)*100/np.sum(v!=0)\n",
    "    missclass_u_svd[i] = sum(np.sign(u) != np.sign(Upred)*(-1))*100/100\n",
    "    missclass_v_svd[i] = sum(np.sign(v) != np.sign(Vpred)*(-1))*100/50"
   ]
  },
  {
   "cell_type": "code",
   "execution_count": 23,
   "metadata": {
    "collapsed": false
   },
   "outputs": [
    {
     "data": {
      "text/plain": [
       "0.0"
      ]
     },
     "execution_count": 23,
     "metadata": {},
     "output_type": "execute_result"
    }
   ],
   "source": [
    "# calculate the mean\n",
    "np.mean( num_zeros_u_svd)"
   ]
  },
  {
   "cell_type": "code",
   "execution_count": 24,
   "metadata": {
    "collapsed": false
   },
   "outputs": [
    {
     "data": {
      "text/plain": [
       "0.0"
      ]
     },
     "execution_count": 24,
     "metadata": {},
     "output_type": "execute_result"
    }
   ],
   "source": [
    "np.mean(num_zeros_v_svd)"
   ]
  },
  {
   "cell_type": "code",
   "execution_count": 25,
   "metadata": {
    "collapsed": false
   },
   "outputs": [
    {
     "data": {
      "text/plain": [
       "0.0"
      ]
     },
     "execution_count": 25,
     "metadata": {},
     "output_type": "execute_result"
    }
   ],
   "source": [
    "np.mean( prop_zeros_u_identified_svd)"
   ]
  },
  {
   "cell_type": "code",
   "execution_count": 26,
   "metadata": {
    "collapsed": false
   },
   "outputs": [
    {
     "data": {
      "text/plain": [
       "0.0"
      ]
     },
     "execution_count": 26,
     "metadata": {},
     "output_type": "execute_result"
    }
   ],
   "source": [
    "np.mean(prop_zeros_v_identified_svd)"
   ]
  },
  {
   "cell_type": "code",
   "execution_count": 27,
   "metadata": {
    "collapsed": false
   },
   "outputs": [
    {
     "data": {
      "text/plain": [
       "100.0"
      ]
     },
     "execution_count": 27,
     "metadata": {},
     "output_type": "execute_result"
    }
   ],
   "source": [
    "np.mean(prop_non_zeros_u_identified_svd)"
   ]
  },
  {
   "cell_type": "code",
   "execution_count": 28,
   "metadata": {
    "collapsed": false
   },
   "outputs": [
    {
     "data": {
      "text/plain": [
       "100.0"
      ]
     },
     "execution_count": 28,
     "metadata": {},
     "output_type": "execute_result"
    }
   ],
   "source": [
    "np.mean(prop_non_zeros_v_identified_svd)"
   ]
  },
  {
   "cell_type": "code",
   "execution_count": 29,
   "metadata": {
    "collapsed": false
   },
   "outputs": [
    {
     "data": {
      "text/plain": [
       "75.0"
      ]
     },
     "execution_count": 29,
     "metadata": {},
     "output_type": "execute_result"
    }
   ],
   "source": [
    "np.mean(missclass_u_svd)"
   ]
  },
  {
   "cell_type": "code",
   "execution_count": 30,
   "metadata": {
    "collapsed": false
   },
   "outputs": [
    {
     "data": {
      "text/plain": [
       "82.260000000000005"
      ]
     },
     "execution_count": 30,
     "metadata": {},
     "output_type": "execute_result"
    }
   ],
   "source": [
    "np.mean(missclass_v_svd)"
   ]
  },
  {
   "cell_type": "markdown",
   "metadata": {
    "collapsed": true
   },
   "source": [
    "Higher Rank Approximation (Rank 2)"
   ]
  },
  {
   "cell_type": "code",
   "execution_count": 31,
   "metadata": {
    "collapsed": true
   },
   "outputs": [],
   "source": [
    "u_hat = np.array(np.repeat(20,2))\n",
    "u_hat = np.append(u_hat,np.repeat(10,4))\n",
    "u_hat = np.append(u_hat,np.repeat(3,8))\n",
    "u_hat = np.append(u_hat,np.repeat(1,16))\n",
    "u_hat = np.append(u_hat,np.repeat(0,70))"
   ]
  },
  {
   "cell_type": "code",
   "execution_count": 32,
   "metadata": {
    "collapsed": false
   },
   "outputs": [],
   "source": [
    "v_hat = np.array(np.repeat(1,20))\n",
    "v_hat = np.append(v_hat,np.repeat(0,30))"
   ]
  },
  {
   "cell_type": "code",
   "execution_count": 33,
   "metadata": {
    "collapsed": false
   },
   "outputs": [],
   "source": [
    "u_hat_2 = np.array(np.repeat(0,6))\n",
    "u_hat_2 = np.append(u_hat_2,np.array([5,-5]))\n",
    "u_hat_2 = np.append(u_hat_2,np.repeat(0,6))\n",
    "u_hat_2 = np.append(u_hat_2,np.repeat(10,4))\n",
    "u_hat_2 = np.append(u_hat_2,np.repeat(-10,4))\n",
    "u_hat_2 = np.append(u_hat_2,np.repeat(0,8))\n",
    "u_hat_2 = np.append(u_hat_2,np.repeat(30,6))\n",
    "u_hat_2 = np.append(u_hat_2,np.repeat(0,64))"
   ]
  },
  {
   "cell_type": "code",
   "execution_count": 34,
   "metadata": {
    "collapsed": false
   },
   "outputs": [],
   "source": [
    "v_hat_2 = np.array(np.repeat(0,10))\n",
    "v_hat_2 = np.append(v_hat_2,np.repeat(1,5))\n",
    "v_hat_2 = np.append(v_hat_2,np.repeat(-1,5))\n",
    "v_hat_2 = np.append(v_hat_2,np.repeat(0,30))"
   ]
  },
  {
   "cell_type": "code",
   "execution_count": 35,
   "metadata": {
    "collapsed": false
   },
   "outputs": [],
   "source": [
    "u = u_hat/np.linalg.norm(u_hat)\n",
    "v = v_hat/np.linalg.norm(v_hat)\n",
    "u2 = u_hat_2/np.linalg.norm(u_hat_2)\n",
    "v2 = v_hat_2/np.linalg.norm(v_hat_2)"
   ]
  },
  {
   "cell_type": "code",
   "execution_count": 36,
   "metadata": {
    "collapsed": false
   },
   "outputs": [],
   "source": [
    "X_star = 1000*u.reshape(len(u),1) @ v.reshape(1,len(v)) + 100 * u2.reshape(len(u2),1) @ v2.reshape(1,len(v2))"
   ]
  },
  {
   "cell_type": "code",
   "execution_count": 37,
   "metadata": {
    "collapsed": false
   },
   "outputs": [
    {
     "data": {
      "text/plain": [
       "0.0"
      ]
     },
     "execution_count": 37,
     "metadata": {},
     "output_type": "execute_result"
    }
   ],
   "source": [
    "## v and v2 are perpendicular. \n",
    "v @ v2"
   ]
  },
  {
   "cell_type": "code",
   "execution_count": 38,
   "metadata": {
    "collapsed": false
   },
   "outputs": [
    {
     "data": {
      "text/plain": [
       "0.0"
      ]
     },
     "execution_count": 38,
     "metadata": {},
     "output_type": "execute_result"
    }
   ],
   "source": [
    "u @ u2"
   ]
  },
  {
   "cell_type": "code",
   "execution_count": 39,
   "metadata": {
    "collapsed": true
   },
   "outputs": [],
   "source": [
    "# create empty vectors for storing answers\n",
    "num_zeros_u1 = np.zeros(100)\n",
    "prop_zeros_u1_identified= np.zeros(100)\n",
    "prop_non_zeros_u1_identified= np.zeros(100)\n",
    "missclass_u1= np.zeros(100)"
   ]
  },
  {
   "cell_type": "code",
   "execution_count": 40,
   "metadata": {
    "collapsed": true
   },
   "outputs": [],
   "source": [
    "num_zeros_v1 = np.zeros(100)\n",
    "prop_zeros_v1_identified= np.zeros(100)\n",
    "prop_non_zeros_v1_identified= np.zeros(100)\n",
    "missclass_v1= np.zeros(100)"
   ]
  },
  {
   "cell_type": "code",
   "execution_count": 41,
   "metadata": {
    "collapsed": true
   },
   "outputs": [],
   "source": [
    "num_zeros_u2 = np.zeros(100)\n",
    "prop_zeros_u2_identified= np.zeros(100)\n",
    "prop_non_zeros_u2_identified= np.zeros(100)\n",
    "missclass_u2= np.zeros(100)"
   ]
  },
  {
   "cell_type": "code",
   "execution_count": 42,
   "metadata": {
    "collapsed": true
   },
   "outputs": [],
   "source": [
    "num_zeros_v2 = np.zeros(100)\n",
    "prop_zeros_v2_identified= np.zeros(100)\n",
    "prop_non_zeros_v2_identified= np.zeros(100)\n",
    "missclass_v2= np.zeros(100)"
   ]
  },
  {
   "cell_type": "code",
   "execution_count": 43,
   "metadata": {
    "collapsed": false
   },
   "outputs": [],
   "source": [
    "for i in range(100):\n",
    "    # generate X = X* + epsilon (sample from the standard normal distribution)\n",
    "    X = X_star + np.random.normal(0,1,100*50).reshape(100,50)\n",
    "    U, s, V = np.linalg.svd(X)\n",
    "    u0 = U.T[0]\n",
    "    v0 = V.T[0]\n",
    "    Upred, Vpred,s1,niter = ssvd(X)\n",
    "    residuals = X - 1000*Upred.reshape(len(Upred),1) @ Vpred.reshape(1,len(Vpred))\n",
    "    U, s, V = np.linalg.svd(residuals)\n",
    "    u0 = U.T[0]\n",
    "    v0 = V.T[0]\n",
    "    ## storing answers\n",
    "    Upred_2, Vpred_2,s2, niter_2 = ssvd(residuals)\n",
    "    num_zeros_u1[i] = np.sum(Upred==0)\n",
    "    num_zeros_u2[i] = np.sum(Upred_2==0)\n",
    "    num_zeros_v1[i] = np.sum(Vpred==0)\n",
    "    num_zeros_v2[i] = np.sum(Vpred_2==0)\n",
    "    prop_zeros_u1_identified[i] = np.sum(Upred[np.where(u == 0)] ==0)*100/np.sum(u==0)\n",
    "    prop_zeros_u2_identified[i] = np.sum(Upred_2[np.where(u2 == 0)] ==0)*100/np.sum(u2==0)\n",
    "    prop_zeros_v1_identified[i] = np.sum(Vpred[np.where(v == 0)] ==0)*100/np.sum(v==0)\n",
    "    prop_zeros_v2_identified[i] = np.sum(Vpred_2[np.where(v2 == 0)] ==0)*100/np.sum(v2==0)\n",
    "    prop_non_zeros_u1_identified[i] = np.sum(Upred[np.where(u != 0)]!=0)*100/np.sum(u!=0)\n",
    "    prop_non_zeros_u2_identified[i] = np.sum(Upred_2[np.where(u2 != 0)]!=0)*100/np.sum(u2!=0)\n",
    "    prop_non_zeros_v1_identified[i] = np.sum(Vpred[np.where(v != 0)]!=0)*100/np.sum(v!=0)\n",
    "    prop_non_zeros_v2_identified[i] = np.sum(Vpred_2[np.where(v2 != 0)]!=0)*100/np.sum(v2!=0)\n",
    "    missclass_u1[i] = sum(np.sign(u) != np.sign(Upred)*(-1))*100/100\n",
    "    missclass_u2[i] = sum(np.sign(u2) != np.sign(Upred_2)*(-1))*100/100\n",
    "    missclass_v1[i] = sum(np.sign(v) != np.sign(Vpred)*(-1))*100/50\n",
    "    missclass_v2[i] = sum(np.sign(v2) != np.sign(Vpred_2)*(-1))*100/50"
   ]
  },
  {
   "cell_type": "code",
   "execution_count": 44,
   "metadata": {
    "collapsed": false
   },
   "outputs": [
    {
     "data": {
      "text/plain": [
       "70.0"
      ]
     },
     "execution_count": 44,
     "metadata": {},
     "output_type": "execute_result"
    }
   ],
   "source": [
    "np.mean(num_zeros_u1)"
   ]
  },
  {
   "cell_type": "code",
   "execution_count": 45,
   "metadata": {
    "collapsed": false
   },
   "outputs": [
    {
     "data": {
      "text/plain": [
       "83.909999999999997"
      ]
     },
     "execution_count": 45,
     "metadata": {},
     "output_type": "execute_result"
    }
   ],
   "source": [
    "np.mean(num_zeros_u2)"
   ]
  },
  {
   "cell_type": "code",
   "execution_count": 46,
   "metadata": {
    "collapsed": false
   },
   "outputs": [
    {
     "data": {
      "text/plain": [
       "30.0"
      ]
     },
     "execution_count": 46,
     "metadata": {},
     "output_type": "execute_result"
    }
   ],
   "source": [
    "np.mean(num_zeros_v1)"
   ]
  },
  {
   "cell_type": "code",
   "execution_count": 47,
   "metadata": {
    "collapsed": false
   },
   "outputs": [
    {
     "data": {
      "text/plain": [
       "39.880000000000003"
      ]
     },
     "execution_count": 47,
     "metadata": {},
     "output_type": "execute_result"
    }
   ],
   "source": [
    "np.mean(num_zeros_v2)"
   ]
  },
  {
   "cell_type": "code",
   "execution_count": 48,
   "metadata": {
    "collapsed": false
   },
   "outputs": [
    {
     "data": {
      "text/plain": [
       "100.0"
      ]
     },
     "execution_count": 48,
     "metadata": {},
     "output_type": "execute_result"
    }
   ],
   "source": [
    "np.mean(prop_zeros_u1_identified)"
   ]
  },
  {
   "cell_type": "code",
   "execution_count": 49,
   "metadata": {
    "collapsed": false
   },
   "outputs": [
    {
     "data": {
      "text/plain": [
       "99.88095238095238"
      ]
     },
     "execution_count": 49,
     "metadata": {},
     "output_type": "execute_result"
    }
   ],
   "source": [
    "np.mean(prop_zeros_u2_identified)"
   ]
  },
  {
   "cell_type": "code",
   "execution_count": 50,
   "metadata": {
    "collapsed": false
   },
   "outputs": [
    {
     "data": {
      "text/plain": [
       "100.0"
      ]
     },
     "execution_count": 50,
     "metadata": {},
     "output_type": "execute_result"
    }
   ],
   "source": [
    "np.mean(prop_zeros_v1_identified)"
   ]
  },
  {
   "cell_type": "code",
   "execution_count": 51,
   "metadata": {
    "collapsed": false
   },
   "outputs": [
    {
     "data": {
      "text/plain": [
       "99.700000000000003"
      ]
     },
     "execution_count": 51,
     "metadata": {},
     "output_type": "execute_result"
    }
   ],
   "source": [
    "np.mean(prop_zeros_v2_identified)"
   ]
  },
  {
   "cell_type": "code",
   "execution_count": 52,
   "metadata": {
    "collapsed": false
   },
   "outputs": [
    {
     "data": {
      "text/plain": [
       "100.0"
      ]
     },
     "execution_count": 52,
     "metadata": {},
     "output_type": "execute_result"
    }
   ],
   "source": [
    "np.mean(prop_non_zeros_u1_identified)"
   ]
  },
  {
   "cell_type": "code",
   "execution_count": 53,
   "metadata": {
    "collapsed": false
   },
   "outputs": [
    {
     "data": {
      "text/plain": [
       "99.9375"
      ]
     },
     "execution_count": 53,
     "metadata": {},
     "output_type": "execute_result"
    }
   ],
   "source": [
    "np.mean(prop_non_zeros_u2_identified)"
   ]
  },
  {
   "cell_type": "code",
   "execution_count": 54,
   "metadata": {
    "collapsed": false
   },
   "outputs": [
    {
     "data": {
      "text/plain": [
       "100.0"
      ]
     },
     "execution_count": 54,
     "metadata": {},
     "output_type": "execute_result"
    }
   ],
   "source": [
    "np.mean(prop_non_zeros_v1_identified)"
   ]
  },
  {
   "cell_type": "code",
   "execution_count": 55,
   "metadata": {
    "collapsed": false
   },
   "outputs": [
    {
     "data": {
      "text/plain": [
       "100.0"
      ]
     },
     "execution_count": 55,
     "metadata": {},
     "output_type": "execute_result"
    }
   ],
   "source": [
    "np.mean(prop_non_zeros_v2_identified)"
   ]
  },
  {
   "cell_type": "code",
   "execution_count": 56,
   "metadata": {
    "collapsed": false
   },
   "outputs": [
    {
     "data": {
      "text/plain": [
       "0.0"
      ]
     },
     "execution_count": 56,
     "metadata": {},
     "output_type": "execute_result"
    }
   ],
   "source": [
    "np.mean(missclass_u1)"
   ]
  },
  {
   "cell_type": "code",
   "execution_count": 57,
   "metadata": {
    "collapsed": false
   },
   "outputs": [
    {
     "data": {
      "text/plain": [
       "8.0999999999999996"
      ]
     },
     "execution_count": 57,
     "metadata": {},
     "output_type": "execute_result"
    }
   ],
   "source": [
    "np.mean(missclass_u2)"
   ]
  },
  {
   "cell_type": "code",
   "execution_count": 58,
   "metadata": {
    "collapsed": false
   },
   "outputs": [
    {
     "data": {
      "text/plain": [
       "0.0"
      ]
     },
     "execution_count": 58,
     "metadata": {},
     "output_type": "execute_result"
    }
   ],
   "source": [
    "np.mean(missclass_v1)"
   ]
  },
  {
   "cell_type": "code",
   "execution_count": 59,
   "metadata": {
    "collapsed": false
   },
   "outputs": [
    {
     "data": {
      "text/plain": [
       "10.24"
      ]
     },
     "execution_count": 59,
     "metadata": {},
     "output_type": "execute_result"
    }
   ],
   "source": [
    "np.mean(missclass_v2)"
   ]
  },
  {
   "cell_type": "markdown",
   "metadata": {},
   "source": [
    "SVD"
   ]
  },
  {
   "cell_type": "code",
   "execution_count": 60,
   "metadata": {
    "collapsed": true
   },
   "outputs": [],
   "source": [
    "num_zeros_u1_svd = np.zeros(100)\n",
    "prop_zeros_u1_identified_svd= np.zeros(100)\n",
    "prop_non_zeros_u1_identified_svd= np.zeros(100)\n",
    "missclass_u1_svd= np.zeros(100)"
   ]
  },
  {
   "cell_type": "code",
   "execution_count": 61,
   "metadata": {
    "collapsed": true
   },
   "outputs": [],
   "source": [
    "num_zeros_u2_svd = np.zeros(100)\n",
    "prop_zeros_u2_identified_svd= np.zeros(100)\n",
    "prop_non_zeros_u2_identified_svd= np.zeros(100)\n",
    "missclass_u2_svd= np.zeros(100)"
   ]
  },
  {
   "cell_type": "code",
   "execution_count": 62,
   "metadata": {
    "collapsed": true
   },
   "outputs": [],
   "source": [
    "num_zeros_v1_svd = np.zeros(100)\n",
    "prop_zeros_v1_identified_svd= np.zeros(100)\n",
    "prop_non_zeros_v1_identified_svd= np.zeros(100)\n",
    "missclass_v1_svd= np.zeros(100)"
   ]
  },
  {
   "cell_type": "code",
   "execution_count": 63,
   "metadata": {
    "collapsed": true
   },
   "outputs": [],
   "source": [
    "num_zeros_v2_svd = np.zeros(100)\n",
    "prop_zeros_v2_identified_svd= np.zeros(100)\n",
    "prop_non_zeros_v2_identified_svd= np.zeros(100)\n",
    "missclass_v2_svd= np.zeros(100)"
   ]
  },
  {
   "cell_type": "code",
   "execution_count": 64,
   "metadata": {
    "collapsed": true
   },
   "outputs": [],
   "source": [
    "for i in range(100):\n",
    "    X = X_star + np.random.normal(0,1,100*50).reshape(100,50)\n",
    "    Upred, s, Vpred = np.linalg.svd(X)\n",
    "    Upred = Upred.T[0]\n",
    "    Vpred = Vpred.T[0]\n",
    "    residuals = X - 1000*Upred.reshape(len(Upred),1) @ Vpred.reshape(1,len(Vpred))\n",
    "    Upred_2, s2, Vpred_2 = np.linalg.svd(X)\n",
    "    Upred_2 = Upred_2.T[0]\n",
    "    Vpred_2 = Vpred_2.T[0]\n",
    "    num_zeros_u1_svd[i] = np.sum(Upred==0)\n",
    "    num_zeros_u2_svd[i] = np.sum(Upred_2==0)\n",
    "    num_zeros_v1_svd[i] = np.sum(Vpred==0)\n",
    "    num_zeros_v2_svd[i] = np.sum(Vpred_2==0)\n",
    "    prop_zeros_u1_identified_svd[i] = np.sum(Upred[np.where(u == 0)] ==0)*100/np.sum(u==0)\n",
    "    prop_zeros_u2_identified_svd[i] = np.sum(Upred_2[np.where(u2 == 0)] ==0)*100/np.sum(u2==0)\n",
    "    prop_zeros_v1_identified_svd[i] = np.sum(Vpred[np.where(v == 0)] ==0)*100/np.sum(v==0)\n",
    "    prop_zeros_v2_identified_svd[i] = np.sum(Vpred_2[np.where(v2 == 0)] ==0)*100/np.sum(v2==0)\n",
    "    prop_non_zeros_u1_identified_svd[i] = np.sum(Upred[np.where(u != 0)]!=0)*100/np.sum(u!=0)\n",
    "    prop_non_zeros_u2_identified_svd[i] = np.sum(Upred_2[np.where(u2 != 0)]!=0)*100/np.sum(u2!=0)\n",
    "    prop_non_zeros_v1_identified_svd[i] = np.sum(Vpred[np.where(v != 0)]!=0)*100/np.sum(v!=0)\n",
    "    prop_non_zeros_v2_identified_svd[i] = np.sum(Vpred_2[np.where(v2 != 0)]!=0)*100/np.sum(v2!=0)\n",
    "    missclass_u1_svd[i] = sum(np.sign(u) != np.sign(Upred)*(-1))*100/100\n",
    "    missclass_u2_svd[i] = sum(np.sign(u2) != np.sign(Upred_2)*(-1))*100/100\n",
    "    missclass_v1_svd[i] = sum(np.sign(v) != np.sign(Vpred)*(-1))*100/50\n",
    "    missclass_v2_svd[i] = sum(np.sign(v2) != np.sign(Vpred_2)*(-1))*100/50"
   ]
  },
  {
   "cell_type": "code",
   "execution_count": 65,
   "metadata": {
    "collapsed": false
   },
   "outputs": [
    {
     "data": {
      "text/plain": [
       "0.0"
      ]
     },
     "execution_count": 65,
     "metadata": {},
     "output_type": "execute_result"
    }
   ],
   "source": [
    "np.mean(num_zeros_u1_svd)"
   ]
  },
  {
   "cell_type": "code",
   "execution_count": 66,
   "metadata": {
    "collapsed": false
   },
   "outputs": [
    {
     "data": {
      "text/plain": [
       "0.0"
      ]
     },
     "execution_count": 66,
     "metadata": {},
     "output_type": "execute_result"
    }
   ],
   "source": [
    "np.mean(num_zeros_u2_svd)"
   ]
  },
  {
   "cell_type": "code",
   "execution_count": 67,
   "metadata": {
    "collapsed": false
   },
   "outputs": [
    {
     "data": {
      "text/plain": [
       "0.0"
      ]
     },
     "execution_count": 67,
     "metadata": {},
     "output_type": "execute_result"
    }
   ],
   "source": [
    "np.mean(num_zeros_v1_svd)"
   ]
  },
  {
   "cell_type": "code",
   "execution_count": 68,
   "metadata": {
    "collapsed": false
   },
   "outputs": [
    {
     "data": {
      "text/plain": [
       "0.0"
      ]
     },
     "execution_count": 68,
     "metadata": {},
     "output_type": "execute_result"
    }
   ],
   "source": [
    "np.mean(num_zeros_v2_svd)"
   ]
  },
  {
   "cell_type": "code",
   "execution_count": 69,
   "metadata": {
    "collapsed": false
   },
   "outputs": [
    {
     "data": {
      "text/plain": [
       "0.0"
      ]
     },
     "execution_count": 69,
     "metadata": {},
     "output_type": "execute_result"
    }
   ],
   "source": [
    "np.mean(prop_zeros_u1_identified_svd)"
   ]
  },
  {
   "cell_type": "code",
   "execution_count": 70,
   "metadata": {
    "collapsed": false
   },
   "outputs": [
    {
     "data": {
      "text/plain": [
       "0.0"
      ]
     },
     "execution_count": 70,
     "metadata": {},
     "output_type": "execute_result"
    }
   ],
   "source": [
    "np.mean(prop_zeros_u2_identified_svd)"
   ]
  },
  {
   "cell_type": "code",
   "execution_count": 71,
   "metadata": {
    "collapsed": false
   },
   "outputs": [
    {
     "data": {
      "text/plain": [
       "0.0"
      ]
     },
     "execution_count": 71,
     "metadata": {},
     "output_type": "execute_result"
    }
   ],
   "source": [
    "np.mean(prop_zeros_v1_identified_svd)"
   ]
  },
  {
   "cell_type": "code",
   "execution_count": 72,
   "metadata": {
    "collapsed": false
   },
   "outputs": [
    {
     "data": {
      "text/plain": [
       "0.0"
      ]
     },
     "execution_count": 72,
     "metadata": {},
     "output_type": "execute_result"
    }
   ],
   "source": [
    "np.mean(prop_zeros_v2_identified_svd)"
   ]
  },
  {
   "cell_type": "code",
   "execution_count": 73,
   "metadata": {
    "collapsed": false
   },
   "outputs": [
    {
     "data": {
      "text/plain": [
       "100.0"
      ]
     },
     "execution_count": 73,
     "metadata": {},
     "output_type": "execute_result"
    }
   ],
   "source": [
    "np.mean(prop_non_zeros_u1_identified_svd)"
   ]
  },
  {
   "cell_type": "code",
   "execution_count": 74,
   "metadata": {
    "collapsed": false
   },
   "outputs": [
    {
     "data": {
      "text/plain": [
       "100.0"
      ]
     },
     "execution_count": 74,
     "metadata": {},
     "output_type": "execute_result"
    }
   ],
   "source": [
    "np.mean(prop_non_zeros_u2_identified_svd)"
   ]
  },
  {
   "cell_type": "code",
   "execution_count": 75,
   "metadata": {
    "collapsed": false
   },
   "outputs": [
    {
     "data": {
      "text/plain": [
       "100.0"
      ]
     },
     "execution_count": 75,
     "metadata": {},
     "output_type": "execute_result"
    }
   ],
   "source": [
    "np.mean(prop_non_zeros_v1_identified_svd)"
   ]
  },
  {
   "cell_type": "code",
   "execution_count": 76,
   "metadata": {
    "collapsed": false
   },
   "outputs": [
    {
     "data": {
      "text/plain": [
       "100.0"
      ]
     },
     "execution_count": 76,
     "metadata": {},
     "output_type": "execute_result"
    }
   ],
   "source": [
    "\n",
    "np.mean(prop_non_zeros_v2_identified_svd)"
   ]
  },
  {
   "cell_type": "code",
   "execution_count": 77,
   "metadata": {
    "collapsed": false
   },
   "outputs": [
    {
     "data": {
      "text/plain": [
       "70.0"
      ]
     },
     "execution_count": 77,
     "metadata": {},
     "output_type": "execute_result"
    }
   ],
   "source": [
    "np.mean(missclass_u1_svd)"
   ]
  },
  {
   "cell_type": "code",
   "execution_count": 78,
   "metadata": {
    "collapsed": false
   },
   "outputs": [
    {
     "data": {
      "text/plain": [
       "92.170000000000002"
      ]
     },
     "execution_count": 78,
     "metadata": {},
     "output_type": "execute_result"
    }
   ],
   "source": [
    "np.mean(missclass_u2_svd)"
   ]
  },
  {
   "cell_type": "code",
   "execution_count": 79,
   "metadata": {
    "collapsed": false
   },
   "outputs": [
    {
     "data": {
      "text/plain": [
       "78.540000000000006"
      ]
     },
     "execution_count": 79,
     "metadata": {},
     "output_type": "execute_result"
    }
   ],
   "source": [
    "np.mean(missclass_v1_svd)"
   ]
  },
  {
   "cell_type": "code",
   "execution_count": 80,
   "metadata": {
    "collapsed": false
   },
   "outputs": [
    {
     "data": {
      "text/plain": [
       "89.939999999999998"
      ]
     },
     "execution_count": 80,
     "metadata": {},
     "output_type": "execute_result"
    }
   ],
   "source": [
    "np.mean(missclass_v2_svd)"
   ]
  },
  {
   "cell_type": "code",
   "execution_count": 81,
   "metadata": {
    "collapsed": false
   },
   "outputs": [],
   "source": [
    "import prettytable\n",
    "from prettytable import PrettyTable"
   ]
  },
  {
   "cell_type": "code",
   "execution_count": 82,
   "metadata": {
    "collapsed": false
   },
   "outputs": [
    {
     "name": "stdout",
     "output_type": "stream",
     "text": [
      "+--------+---+----------------+------------------------+---------------------------+----------------------------+\n",
      "| Method |   | Avg.# of zeros | Avg.% of correct zeros | Avg.% of correct nonzeros | Misclassification error(%) |\n",
      "+--------+---+----------------+------------------------+---------------------------+----------------------------+\n",
      "|  SSVD  | u |     74.51      |         98.83          |           98.44           |            1.27            |\n",
      "|        | v |     33.79      |         99.38          |           100.0           |            0.42            |\n",
      "|  SVD   | u |      0.0       |          0.0           |           100.0           |            75.0            |\n",
      "|        | v |      0.0       |          0.0           |           100.0           |           82.26            |\n",
      "+--------+---+----------------+------------------------+---------------------------+----------------------------+\n"
     ]
    }
   ],
   "source": [
    "t = PrettyTable(['Method',\"\", 'Avg.# of zeros',\"Avg.% of correct zeros\",\"Avg.% of correct nonzeros\",\"Misclassification error(%)\"])\n",
    "t.add_row(['SSVD', \"u\",np.mean(num_zeros_u),np.round(np.mean(prop_zeros_u_identified),2),np.round(np.mean(prop_non_zeros_u_identified),2),np.round(np.mean(missclass_u),2)])\n",
    "t.add_row(['', \"v\",np.mean(num_zeros_v),np.round(np.mean(prop_zeros_v_identified),2),np.round(np.mean(prop_non_zeros_v_identified),2),np.round(np.mean(missclass_v),2)])\n",
    "t.add_row(['SVD', \"u\",np.mean(num_zeros_u_svd),np.round(np.mean(prop_zeros_u_identified_svd),2),np.round(np.mean(prop_non_zeros_u_identified_svd),2),np.round(np.mean(missclass_u_svd),2)])\n",
    "t.add_row(['', \"v\",np.mean(num_zeros_v_svd),np.round(np.mean(prop_zeros_v_identified_svd),2),np.round(np.mean(prop_non_zeros_v_identified_svd),2),np.round(np.mean(missclass_v_svd),2)])\n",
    "print(t)"
   ]
  },
  {
   "cell_type": "code",
   "execution_count": 83,
   "metadata": {
    "collapsed": false
   },
   "outputs": [
    {
     "data": {
      "text/plain": [
       "98.829999999999998"
      ]
     },
     "execution_count": 83,
     "metadata": {},
     "output_type": "execute_result"
    }
   ],
   "source": [
    "np.round(np.mean(prop_zeros_u_identified),2)"
   ]
  },
  {
   "cell_type": "code",
   "execution_count": 84,
   "metadata": {
    "collapsed": false
   },
   "outputs": [
    {
     "name": "stdout",
     "output_type": "stream",
     "text": [
      "+--------+----+----------------+------------------------+---------------------------+----------------------------+\n",
      "| Method |    | Avg.# of zeros | Avg.% of correct zeros | Avg.% of correct nonzeros | Misclassification error(%) |\n",
      "+--------+----+----------------+------------------------+---------------------------+----------------------------+\n",
      "|  SSVD  | u1 |      70.0      |         100.0          |           100.0           |            0.0             |\n",
      "|        | v1 |      30.0      |         100.0          |           100.0           |            0.0             |\n",
      "|        | u2 |     83.91      |         99.88          |           99.94           |            8.1             |\n",
      "|        | v2 |     39.88      |          99.7          |           100.0           |           10.24            |\n",
      "|  SVD   | u1 |      0.0       |          0.0           |           100.0           |            70.0            |\n",
      "|        | v1 |      0.0       |          0.0           |           100.0           |           78.54            |\n",
      "|        | u2 |      0.0       |          0.0           |           100.0           |           92.17            |\n",
      "|        | v2 |      0.0       |          0.0           |           100.0           |           89.94            |\n",
      "+--------+----+----------------+------------------------+---------------------------+----------------------------+\n"
     ]
    }
   ],
   "source": [
    "t = PrettyTable(['Method',\"\", 'Avg.# of zeros',\"Avg.% of correct zeros\",\"Avg.% of correct nonzeros\",\"Misclassification error(%)\"])\n",
    "t.add_row(['SSVD', \"u1\",np.mean(num_zeros_u1),np.round(np.mean(prop_zeros_u1_identified),2),np.round(np.mean(prop_non_zeros_u1_identified),2),np.round(np.mean(missclass_u1),2)])\n",
    "t.add_row(['', \"v1\",np.mean(num_zeros_v1),np.round(np.mean(prop_zeros_v1_identified),2),np.round(np.mean(prop_non_zeros_v1_identified),2),np.round(np.mean(missclass_v1),2)])\n",
    "t.add_row(['', \"u2\",np.mean(num_zeros_u2),np.round(np.mean(prop_zeros_u2_identified),2),np.round(np.mean(prop_non_zeros_u2_identified),2),np.round(np.mean(missclass_u2),2)])\n",
    "t.add_row(['', \"v2\",np.mean(num_zeros_v2),np.round(np.mean(prop_zeros_v2_identified),2),np.round(np.mean(prop_non_zeros_v2_identified),2),np.round(np.mean(missclass_v2),2)])\n",
    "t.add_row(['SVD', \"u1\",np.mean(num_zeros_u1_svd),np.round(np.mean(prop_zeros_u1_identified_svd),2),np.round(np.mean(prop_non_zeros_u1_identified_svd),2),np.round(np.mean(missclass_u1_svd),2)])\n",
    "t.add_row(['', \"v1\",np.mean(num_zeros_v1_svd),np.round(np.mean(prop_zeros_v1_identified_svd),2),np.round(np.mean(prop_non_zeros_v1_identified_svd),2),np.round(np.mean(missclass_v1_svd),2)])\n",
    "t.add_row(['', \"u2\",np.mean(num_zeros_u2_svd),np.round(np.mean(prop_zeros_u2_identified_svd),2),np.round(np.mean(prop_non_zeros_u2_identified_svd),2),np.round(np.mean(missclass_u2_svd),2)])\n",
    "t.add_row(['', \"v2\",np.mean(num_zeros_v2_svd),np.round(np.mean(prop_zeros_v2_identified_svd),2),np.round(np.mean(prop_non_zeros_v2_identified_svd),2),np.round(np.mean(missclass_v2_svd),2)])\n",
    "print(t)"
   ]
  }
 ],
 "metadata": {
  "anaconda-cloud": {},
  "kernelspec": {
   "display_name": "Python 3",
   "language": "python",
   "name": "python3"
  },
  "language_info": {
   "codemirror_mode": {
    "name": "ipython",
    "version": 3
   },
   "file_extension": ".py",
   "mimetype": "text/x-python",
   "name": "python",
   "nbconvert_exporter": "python",
   "pygments_lexer": "ipython3",
   "version": "3.5.2"
  }
 },
 "nbformat": 4,
 "nbformat_minor": 1
}
